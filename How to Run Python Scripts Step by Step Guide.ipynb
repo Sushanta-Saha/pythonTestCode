{
 "cells": [
  {
   "cell_type": "code",
   "execution_count": 1,
   "id": "bc1355c3",
   "metadata": {},
   "outputs": [
    {
     "name": "stdout",
     "output_type": "stream",
     "text": [
      "This is python Programming for new learner \n"
     ]
    }
   ],
   "source": [
    "# How to run Python code and scripts interactively?\n",
    "\n",
    "print (\"This is python Programming for new learner \")"
   ]
  },
  {
   "cell_type": "code",
   "execution_count": 2,
   "id": "46046b54",
   "metadata": {},
   "outputs": [],
   "source": [
    "\"\"\"\" Python TUPLE – Pack, Unpack, Compare, Slicing, Delete, Key\n",
    "# (Tuple Matching in Python is a method of grouping the tuples by matching the second element in the tuples. \n",
    "# It is achieved by using a dictionary by checking the second element in each tuple in python programming.)\n",
    "\n",
    "# Tuple Syntax can be \n",
    "\n",
    "# tup = ('Jan', 'Feb', 'March')\n",
    "\n",
    "# To write an empty tuple, you need to write as two parentheses containing nothing\n",
    "\n",
    "# tup1 = (); \n",
    "\n",
    "# For writing tuple for a single value, you need to include a comma, even though there is a single value. \n",
    "# Also at the end you need to write semicolon as shown below.\n",
    "\n",
    "# tup2 = (50,);\n",
    "# Tuple indices begin at 0, and they can be concatenated, sliced and so on."
   ]
  },
  {
   "cell_type": "code",
   "execution_count": 5,
   "id": "3753d818",
   "metadata": {},
   "outputs": [
    {
     "name": "stdout",
     "output_type": "stream",
     "text": [
      "Jan\n",
      "Feb\n",
      "March\n"
     ]
    }
   ],
   "source": [
    "# First program using Tuple\n",
    "\n",
    "tup = ('Jan', 'Feb', 'March')\n",
    "print (tup[0])\n",
    "print (tup[1])\n",
    "print (tup[2])"
   ]
  },
  {
   "cell_type": "code",
   "execution_count": 15,
   "id": "845a0129",
   "metadata": {},
   "outputs": [
    {
     "name": "stdout",
     "output_type": "stream",
     "text": [
      "50\n"
     ]
    }
   ],
   "source": [
    "tup1 = (50,); # if I don't use , (comma) after the number then code will be shown error\n",
    "print (tup1[0])"
   ]
  },
  {
   "cell_type": "code",
   "execution_count": 20,
   "id": "599ca833",
   "metadata": {},
   "outputs": [
    {
     "name": "stdout",
     "output_type": "stream",
     "text": [
      "Florida\n",
      "(1, 2, 3, 4, 5)\n"
     ]
    }
   ],
   "source": [
    "\"\"\"\" Tuple Assignment\n",
    "\n",
    "Python has tuple assignment feature which enables you to assign more than one variable at a time. \n",
    "In here, we have assigned tuple 1 with the persons information like name, surname, birth year, etc. \n",
    "and another tuple 2 with the values in it like number (1,2,3,….,7).\n",
    "\n",
    "For Example,\n",
    "\n",
    "(name, surname, birth year, favorite movie and year, profession, birthplace) = Robert \"\"\"\n",
    "\n",
    "tup1 = ('Robert', 'Carlos','1965','Terminator 1995', 'Actor','Florida');\n",
    "tup2 = (1,2,3,4,5,6,7);\n",
    "\n",
    "print(tup1[5])\n",
    "\n",
    "print(tup2[0:5])"
   ]
  },
  {
   "cell_type": "code",
   "execution_count": 22,
   "id": "67a938df",
   "metadata": {},
   "outputs": [
    {
     "name": "stdout",
     "output_type": "stream",
     "text": [
      "Sushanta\n",
      "Saha\n",
      "Wicresoft\n"
     ]
    }
   ],
   "source": [
    "\"\"\"\"\n",
    "Packing and Unpacking\n",
    "In packing, we place value into a new tuple while in unpacking we extract those values back into variables.\n",
    "\"\"\"\n",
    "\n",
    "x = ('Sushanta', 'Saha', 'Wicresoft') # Tuple packing\n",
    "(firstName , lastName , company) = x  # Tuple unpacking\n",
    "\n",
    "print (firstName)\n",
    "print (lastName)\n",
    "print (company)"
   ]
  },
  {
   "cell_type": "code",
   "execution_count": 30,
   "id": "258e652f",
   "metadata": {},
   "outputs": [
    {
     "name": "stdout",
     "output_type": "stream",
     "text": [
      "b is bigger\n"
     ]
    }
   ],
   "source": [
    "\"\"\"\"\n",
    "Comparing tuples\n",
    "A comparison operator in Python can work with tuples.\n",
    "\n",
    "The comparison starts with a first element of each tuple. \n",
    "If they do not compare to =,< or > then it proceed to the second element and so on.\n",
    "\n",
    "It starts with comparing the first element from each of the tuples\n",
    "\n",
    "Let’s study this with an example-\n",
    "\n",
    "\"\"\"\n",
    "\n",
    "a = (4,5)\n",
    "b = (5,1)\n",
    "\n",
    "if (a>b): print (\"a is bigger\")\n",
    "      \n",
    "else: print (\"b is bigger\")\n",
    "   "
   ]
  },
  {
   "cell_type": "code",
   "execution_count": 41,
   "id": "01085e6a",
   "metadata": {},
   "outputs": [
    {
     "name": "stdout",
     "output_type": "stream",
     "text": [
      "a is bigger\n",
      "b is bigger\n",
      "a is bigger\n"
     ]
    }
   ],
   "source": [
    "a = (4,4)\n",
    "b = (3,3)\n",
    "c = (2,3)\n",
    "\n",
    "if (a>b): print (\"a is bigger\")\n",
    "else: print (\"b is bigger\")\n",
    "    \n",
    "if (b>c): print (\"b is bigger\")\n",
    "else : print (\"c is bigger\")\n",
    "    \n",
    "if (c>a): print (\"c is bigger\")\n",
    "else : print (\"a is bigger\")\n",
    "   "
   ]
  },
  {
   "cell_type": "code",
   "execution_count": null,
   "id": "8c640c6c",
   "metadata": {},
   "outputs": [],
   "source": []
  }
 ],
 "metadata": {
  "kernelspec": {
   "display_name": "Sushanta",
   "language": "python",
   "name": "sushanta"
  },
  "language_info": {
   "codemirror_mode": {
    "name": "ipython",
    "version": 3
   },
   "file_extension": ".py",
   "mimetype": "text/x-python",
   "name": "python",
   "nbconvert_exporter": "python",
   "pygments_lexer": "ipython3",
   "version": "3.11.5"
  }
 },
 "nbformat": 4,
 "nbformat_minor": 5
}
